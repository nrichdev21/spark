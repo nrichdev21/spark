{
 "cells": [
  {
   "cell_type": "code",
   "execution_count": 4,
   "metadata": {},
   "outputs": [],
   "source": [
    "import findspark\n",
    "findspark.init('c:/Spark')\n",
    "from pyspark import SparkContext, SparkConf\n",
    "from pyspark.sql import SparkSession, Row\n",
    "from pyspark.sql.types import *\n",
    "from pyspark.sql.functions import *"
   ]
  },
  {
   "cell_type": "code",
   "execution_count": 5,
   "metadata": {},
   "outputs": [],
   "source": [
    "spark = SparkSession.builder.appName(\"withColumnLearning\").getOrCreate()\n"
   ]
  },
  {
   "cell_type": "code",
   "execution_count": 6,
   "metadata": {},
   "outputs": [],
   "source": [
    "data = [((\"James\",\"\",\"Smith\"),\"36636\",\"M\",\"3000\"), \\\n",
    "      ((\"Michael\",\"Rose\",\"\"),\"40288\",\"M\",\"4000\"), \\\n",
    "      ((\"Robert\",\"\",\"Williams\"),\"42114\",\"M\",\"4000\"), \\\n",
    "      ((\"Maria\",\"Anne\",\"Jones\"),\"39192\",\"F\",\"4000\"), \\\n",
    "      ((\"Jen\",\"Mary\",\"Brown\"),\"\",\"F\",\"-1\") \\\n",
    "]"
   ]
  },
  {
   "cell_type": "code",
   "execution_count": 7,
   "metadata": {},
   "outputs": [],
   "source": [
    "schema = StructType([\n",
    "        StructField('name', StructType([\n",
    "             StructField('firstname', StringType(), True),\n",
    "             StructField('middlename', StringType(), True),\n",
    "             StructField('lastname', StringType(), True)\n",
    "             ])),\n",
    "          StructField('dob', StringType(), True),\n",
    "         StructField('gender', StringType(), True),\n",
    "         StructField('salary', StringType(), True)\n",
    "         ])"
   ]
  },
  {
   "cell_type": "code",
   "execution_count": 9,
   "metadata": {},
   "outputs": [
    {
     "name": "stdout",
     "output_type": "stream",
     "text": [
      "+--------------------+-----+------+------+\n",
      "|                name|  dob|gender|salary|\n",
      "+--------------------+-----+------+------+\n",
      "|    [James, , Smith]|36636|     M|  3000|\n",
      "|   [Michael, Rose, ]|40288|     M|  4000|\n",
      "|[Robert, , Williams]|42114|     M|  4000|\n",
      "|[Maria, Anne, Jones]|39192|     F|  4000|\n",
      "|  [Jen, Mary, Brown]|     |     F|    -1|\n",
      "+--------------------+-----+------+------+\n",
      "\n"
     ]
    }
   ],
   "source": [
    "df = spark.createDataFrame(data, schema)\n",
    "df.show()"
   ]
  },
  {
   "cell_type": "code",
   "execution_count": 17,
   "metadata": {},
   "outputs": [
    {
     "name": "stdout",
     "output_type": "stream",
     "text": [
      "root\n",
      " |-- name: struct (nullable = true)\n",
      " |    |-- firstname: string (nullable = true)\n",
      " |    |-- middlename: string (nullable = true)\n",
      " |    |-- lastname: string (nullable = true)\n",
      " |-- dob: string (nullable = true)\n",
      " |-- gender: string (nullable = true)\n",
      " |-- salary: integer (nullable = true)\n",
      "\n",
      "+--------------------+-----+------+------+\n",
      "|                name|  dob|gender|salary|\n",
      "+--------------------+-----+------+------+\n",
      "|    [James, , Smith]|36636|     M|  3000|\n",
      "|   [Michael, Rose, ]|40288|     M|  4000|\n",
      "|[Robert, , Williams]|42114|     M|  4000|\n",
      "|[Maria, Anne, Jones]|39192|     F|  4000|\n",
      "|  [Jen, Mary, Brown]|     |     F|    -1|\n",
      "+--------------------+-----+------+------+\n",
      "\n"
     ]
    }
   ],
   "source": [
    "# Using withColumn to change data type - Cast Salary to an integer\n",
    "df2 = df.withColumn('salary', col('salary').cast('Integer'))\n",
    "df2.printSchema()\n",
    "df2.show()"
   ]
  },
  {
   "cell_type": "code",
   "execution_count": 19,
   "metadata": {},
   "outputs": [
    {
     "name": "stdout",
     "output_type": "stream",
     "text": [
      "+--------------------+-----+------+------+\n",
      "|                name|  dob|gender|salary|\n",
      "+--------------------+-----+------+------+\n",
      "|    [James, , Smith]|36636|     M|300000|\n",
      "|   [Michael, Rose, ]|40288|     M|400000|\n",
      "|[Robert, , Williams]|42114|     M|400000|\n",
      "|[Maria, Anne, Jones]|39192|     F|400000|\n",
      "|  [Jen, Mary, Brown]|     |     F|  -100|\n",
      "+--------------------+-----+------+------+\n",
      "\n"
     ]
    }
   ],
   "source": [
    "# Change the value of an existing column\n",
    "df3 = df2.withColumn('salary',col('salary')*100)\n",
    "df3.show()"
   ]
  },
  {
   "cell_type": "code",
   "execution_count": 36,
   "metadata": {},
   "outputs": [
    {
     "name": "stdout",
     "output_type": "stream",
     "text": [
      "+--------------------+-----+------+------+------------------+\n",
      "|                name|  dob|gender|salary|    monthly_salary|\n",
      "+--------------------+-----+------+------+------------------+\n",
      "|    [James, , Smith]|36636|     M|300000|           25000.0|\n",
      "|   [Michael, Rose, ]|40288|     M|400000|33333.333333333336|\n",
      "|[Robert, , Williams]|42114|     M|400000|33333.333333333336|\n",
      "|[Maria, Anne, Jones]|39192|     F|400000|33333.333333333336|\n",
      "|  [Jen, Mary, Brown]|     |     F|  -100|-8.333333333333334|\n",
      "+--------------------+-----+------+------+------------------+\n",
      "\n"
     ]
    }
   ],
   "source": [
    "# Derive a new column from an existing column\n",
    "df4 = df3.withColumn('monthly_salary',col('salary')*1/12)\n",
    "df4.withColumn('monthly_salary', col('monthly_salary').cast('String'))  # For funs\n",
    "df4.show()"
   ]
  },
  {
   "cell_type": "code",
   "execution_count": 42,
   "metadata": {},
   "outputs": [
    {
     "name": "stdout",
     "output_type": "stream",
     "text": [
      "root\n",
      " |-- name: struct (nullable = true)\n",
      " |    |-- firstname: string (nullable = true)\n",
      " |    |-- middlename: string (nullable = true)\n",
      " |    |-- lastname: string (nullable = true)\n",
      " |-- dob: string (nullable = true)\n",
      " |-- gender: string (nullable = true)\n",
      " |-- salary: integer (nullable = true)\n",
      " |-- monthly_salary: double (nullable = true)\n",
      " |-- country: string (nullable = false)\n",
      " |-- another_column: string (nullable = false)\n",
      "\n"
     ]
    }
   ],
   "source": [
    "# Add a new column, heck add a 2nd one while your at it.\n",
    "df5 = df4.withColumn('country', lit('USA')) \\\n",
    "    .withColumn('another_column',lit('anotherValue'))\n",
    "df5.printSchema()"
   ]
  },
  {
   "cell_type": "code",
   "execution_count": 59,
   "metadata": {},
   "outputs": [],
   "source": [
    "# Rename DataFrame column name\n",
    "df6 = df5.withColumnRenamed('another_column','department')"
   ]
  },
  {
   "cell_type": "code",
   "execution_count": 60,
   "metadata": {},
   "outputs": [
    {
     "name": "stdout",
     "output_type": "stream",
     "text": [
      "+--------------------+-----+------+------------------+-------+------------+\n",
      "|name                |dob  |gender|monthly_salary    |country|department  |\n",
      "+--------------------+-----+------+------------------+-------+------------+\n",
      "|[James, , Smith]    |36636|M     |25000.0           |USA    |anotherValue|\n",
      "|[Michael, Rose, ]   |40288|M     |33333.333333333336|USA    |anotherValue|\n",
      "|[Robert, , Williams]|42114|M     |33333.333333333336|USA    |anotherValue|\n",
      "|[Maria, Anne, Jones]|39192|F     |33333.333333333336|USA    |anotherValue|\n",
      "|[Jen, Mary, Brown]  |     |F     |-8.333333333333334|USA    |anotherValue|\n",
      "+--------------------+-----+------+------------------+-------+------------+\n",
      "\n"
     ]
    }
   ],
   "source": [
    "# Drop a column form the dataframe\n",
    "\n",
    "df6.drop(\"salary\") \\\n",
    ".show(truncate=False) "
   ]
  },
  {
   "cell_type": "code",
   "execution_count": 62,
   "metadata": {},
   "outputs": [
    {
     "name": "stdout",
     "output_type": "stream",
     "text": [
      "+--------------------+-----+------+------+------------------+-------+--------------+\n",
      "|                name|  dob|gender|salary|    monthly_salary|country|another_column|\n",
      "+--------------------+-----+------+------+------------------+-------+--------------+\n",
      "|    [James, , Smith]|36636|     M|300000|           25000.0|    USA|  anotherValue|\n",
      "|   [Michael, Rose, ]|40288|     M|400000|33333.333333333336|    USA|  anotherValue|\n",
      "|[Robert, , Williams]|42114|     M|400000|33333.333333333336|    USA|  anotherValue|\n",
      "|[Maria, Anne, Jones]|39192|     F|400000|33333.333333333336|    USA|  anotherValue|\n",
      "|  [Jen, Mary, Brown]|     |     F|  -100|-8.333333333333334|    USA|  anotherValue|\n",
      "+--------------------+-----+------+------+------------------+-------+--------------+\n",
      "\n"
     ]
    }
   ],
   "source": [
    "df5.show()"
   ]
  },
  {
   "cell_type": "code",
   "execution_count": null,
   "metadata": {},
   "outputs": [],
   "source": []
  }
 ],
 "metadata": {
  "kernelspec": {
   "display_name": "Python 3",
   "language": "python",
   "name": "python3"
  },
  "language_info": {
   "codemirror_mode": {
    "name": "ipython",
    "version": 3
   },
   "file_extension": ".py",
   "mimetype": "text/x-python",
   "name": "python",
   "nbconvert_exporter": "python",
   "pygments_lexer": "ipython3",
   "version": "3.7.6"
  }
 },
 "nbformat": 4,
 "nbformat_minor": 4
}
